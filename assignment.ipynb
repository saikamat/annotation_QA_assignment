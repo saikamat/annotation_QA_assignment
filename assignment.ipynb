{
 "cells": [
  {
   "cell_type": "code",
   "execution_count": 1,
   "metadata": {},
   "outputs": [],
   "source": [
    "import requests\n",
    "import json\n",
    "from os import environ\n"
   ]
  },
  {
   "cell_type": "markdown",
   "metadata": {},
   "source": [
    "Retrieving Project - testing API key"
   ]
  },
  {
   "cell_type": "code",
   "execution_count": null,
   "metadata": {},
   "outputs": [],
   "source": [
    "project_params = \"projects/Traffic Sign Detection\"\n",
    "url = \"https://api.scale.com/v1/\"\n",
    "\n",
    "headers = {\n",
    "    \"Accept\": \"application/json\",\n",
    "    \"Authorization\": \"Basic \"+environ.get('Bearer')\n",
    "}\n",
    "\n",
    "response = requests.request(\"GET\", url+project_params, headers=headers)\n",
    "pretty_project_name = json.loads(response.text)\n",
    "print (json.dumps(pretty_project_name, indent=4))\n"
   ]
  },
  {
   "cell_type": "markdown",
   "metadata": {},
   "source": [
    "Retrieving Tasks"
   ]
  },
  {
   "cell_type": "code",
   "execution_count": null,
   "metadata": {},
   "outputs": [],
   "source": [
    "task_params = \"tasks?status=completed&project=Traffic Sign Detection\"\n",
    "response = requests.request(\"GET\", url+task_params, headers=headers)\n",
    "\n",
    "task_list_json = json.loads(response.text)\n",
    "\n",
    "for i in task_list_json[\"docs\"]:\n",
    "    # print (json.dumps(i[\"task_id\"], indent=4))\n",
    "    response_task = requests.request(\"GET\", url+\"task/\"+i[\"task_id\"], headers=headers)\n",
    "    response_task_json = json.loads(response_task.text)\n",
    "    print (json.dumps(response_task_json, indent=4))"
   ]
  },
  {
   "cell_type": "markdown",
   "metadata": {},
   "source": [
    "# Phase 2: one QC"
   ]
  },
  {
   "cell_type": "markdown",
   "metadata": {},
   "source": [
    "QC 1: Check that visible signs do not have \"NA\" as background color"
   ]
  },
  {
   "cell_type": "code",
   "execution_count": 8,
   "metadata": {},
   "outputs": [],
   "source": [
    "\n",
    "def check_visible_sign_bg_color(i):\n",
    "    annotations=i['response']['annotations']\n",
    "    # annotations is a list of different labels. \n",
    "    for j in annotations:\n",
    "        # Check if background color of annotation is not_applicable\n",
    "        if j['attributes']['background_color'] == 'not_applicable':\n",
    "            # Check if annotation label is not \"non visible face\"\n",
    "            if j['label'] !=  \"non_visible_face\":\n",
    "                print('ERROR: Task id: {} annotation: {} type: {} cannot have background color as not_applicable.\\n'.format(i[\"task_id\"],j['uuid'],j['label']))\n",
    "   "
   ]
  },
  {
   "cell_type": "code",
   "execution_count": 9,
   "metadata": {},
   "outputs": [
    {
     "name": "stdout",
     "output_type": "stream",
     "text": [
      "ERROR: Task id: 5f127f6c3a6b1000172320ad annotation: 8f9e0df3-7534-46ab-b7b4-dbae311c88cd type: traffic_control_sign cannot have background color as not_applicable.\n",
      "\n",
      "ERROR: Task id: 5f127f6c3a6b1000172320ad annotation: dda85426-ba5f-4910-b92b-e50fc0bfb793 type: traffic_control_sign cannot have background color as not_applicable.\n",
      "\n",
      "ERROR: Task id: 5f127f6c3a6b1000172320ad annotation: 0bc2ab2c-16b0-461e-8866-08f3bdc87238 type: traffic_control_sign cannot have background color as not_applicable.\n",
      "\n",
      "ERROR: Task id: 5f127f6c3a6b1000172320ad annotation: fd7a83ed-cbcc-4b98-8746-98c7551cb4a2 type: policy_sign cannot have background color as not_applicable.\n",
      "\n"
     ]
    }
   ],
   "source": [
    "response = requests.request(\"GET\", url+task_params, headers=headers)\n",
    "\n",
    "task_list_json = json.loads(response.text)\n",
    "\n",
    "for i in task_list_json[\"docs\"]:\n",
    "    # print (json.dumps(i[\"task_id\"], indent=4))\n",
    "    response_task = requests.request(\"GET\", url+\"task/\"+i[\"task_id\"], headers=headers)\n",
    "    response_task_json = json.loads(response_task.text)\n",
    "    # check_box_size(i)\n",
    "    check_visible_sign_bg_color(i)\n"
   ]
  },
  {
   "cell_type": "markdown",
   "metadata": {},
   "source": [
    "QC 2: Big boxes (which take up 20% of the image), should not be empty. Check if boxes bigger than 20% of the image do contain background color."
   ]
  },
  {
   "cell_type": "code",
   "execution_count": 6,
   "metadata": {},
   "outputs": [],
   "source": [
    "# verify if the bigger annotations have sufficient info within them.\n",
    "def check_box_size(i):\n",
    "    annotations=i['response']['annotations']\n",
    "    # annotations is a list of different labels. \n",
    "    for j in annotations:\n",
    "        # Check if bounding box is more than 20% of image size\n",
    "        if j['width']*j['height'] > 0.2*1396*850:\n",
    "            # Check if background color of annotation is not_applicable\n",
    "            if j['attributes']['background_color'] == 'not_applicable':\n",
    "                print('ERROR: Big box containing no information in {} tag of task {} '.format(j['uuid'],i['task_id'] ))\n",
    "        "
   ]
  }
 ],
 "metadata": {
  "interpreter": {
   "hash": "aee8b7b246df8f9039afb4144a1f6fd8d2ca17a180786b69acc140d282b71a49"
  },
  "kernelspec": {
   "display_name": "Python 3.7.7 64-bit",
   "language": "python",
   "name": "python3"
  },
  "language_info": {
   "codemirror_mode": {
    "name": "ipython",
    "version": 3
   },
   "file_extension": ".py",
   "mimetype": "text/x-python",
   "name": "python",
   "nbconvert_exporter": "python",
   "pygments_lexer": "ipython3",
   "version": "3.7.7"
  },
  "orig_nbformat": 4
 },
 "nbformat": 4,
 "nbformat_minor": 2
}
