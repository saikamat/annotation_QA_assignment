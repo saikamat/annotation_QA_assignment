{
 "cells": [
  {
   "cell_type": "code",
   "execution_count": 2,
   "metadata": {},
   "outputs": [],
   "source": [
    "import requests\n",
    "import json\n",
    "from os import environ\n"
   ]
  },
  {
   "cell_type": "markdown",
   "metadata": {},
   "source": [
    "Retrieving Project - testing API key"
   ]
  },
  {
   "cell_type": "code",
   "execution_count": 8,
   "metadata": {},
   "outputs": [
    {
     "name": "stdout",
     "output_type": "stream",
     "text": [
      "{\n",
      "    \"type\": \"annotation\",\n",
      "    \"pipelineName\": \"standard_task\",\n",
      "    \"created_at\": \"2020-07-18T01:20:22.280Z\",\n",
      "    \"param_history\": [\n",
      "        {\n",
      "            \"created_at\": \"2020-12-17T23:18:07.540Z\",\n",
      "            \"version\": 0,\n",
      "            \"patch\": false\n",
      "        }\n",
      "    ],\n",
      "    \"name\": \"Traffic Sign Detection\",\n",
      "    \"pinned\": true,\n",
      "    \"archived\": false,\n",
      "    \"customGradersUsedOrDismissed\": false,\n",
      "    \"edgeCaseAlertsEnabled\": true,\n",
      "    \"turnOnLongHints\": true,\n",
      "    \"isAudioTranscription\": false,\n",
      "    \"useLabelerManagementPlatform\": false,\n",
      "    \"containsAdultContent\": false,\n",
      "    \"useTextCollectionTemplate\": false,\n",
      "    \"datasetLinks\": [],\n",
      "    \"taxonomy\": {\n",
      "        \"patch\": false\n",
      "    }\n",
      "}\n"
     ]
    }
   ],
   "source": [
    "project_name = \"Traffic Sign Detection\"\n",
    "url = \"https://api.scale.com/v1/\"\n",
    "\n",
    "headers = {\n",
    "    \"Accept\": \"application/json\",\n",
    "    \"Authorization\": \"Basic \"+environ.get('Bearer')\n",
    "}\n",
    "\n",
    "response = requests.request(\"GET\", url+\"projects/\"+project_name, headers=headers)\n",
    "pretty_project_name = json.loads(response.text)\n",
    "print (json.dumps(pretty_project_name, indent=4))\n"
   ]
  },
  {
   "cell_type": "markdown",
   "metadata": {},
   "source": [
    "Retrieving Tasks"
   ]
  },
  {
   "cell_type": "code",
   "execution_count": null,
   "metadata": {},
   "outputs": [],
   "source": [
    "\n",
    "response = requests.request(\"GET\", url+\"tasks?status=completed&project=\"+project_name, headers=headers)\n",
    "\n",
    "task_list_json = json.loads(response.text)\n",
    "\n",
    "# list of tasks\n",
    "tasks = task_list_json[\"docs\"] \n",
    "\n",
    "for i in tasks:\n",
    "    # print (json.dumps(i[\"task_id\"], indent=4))\n",
    "    response_task = requests.request(\"GET\", url+\"task/\"+i[\"task_id\"], headers=headers)\n",
    "    response_task_json = json.loads(response_task.text)\n",
    "    print (json.dumps(response_task_json, indent=4))"
   ]
  },
  {
   "cell_type": "markdown",
   "metadata": {},
   "source": [
    "# Phase 2: one QC"
   ]
  },
  {
   "cell_type": "code",
   "execution_count": 14,
   "metadata": {},
   "outputs": [],
   "source": [
    "# verify if the bigger annotations have sufficient info within them.\n",
    "def check_box_size(i):\n",
    "    annotations=i['response']['annotations']\n",
    "    # annotations is a list of different labels. \n",
    "    for j in annotations:\n",
    "        annotation_flag = False\n",
    "        # print(j['label'],annotations.index(j))\n",
    "        if j['width']*j['height'] > 0.2*1396*850:\n",
    "            if j['label'] == 'non_visible_face':\n",
    "                if j['attributes']['background_color'] == 'not_applicable':\n",
    "                    annotation_flag = True\n",
    "                    print('ERROR: Big box containing no information in {} tag of task {} '.format(j['uuid'],i['task_id'] ))\n",
    "        \n",
    "    if annotation_flag == False:  \n",
    "        print ('Task {} passed big box test '.format(i['task_id']))"
   ]
  },
  {
   "cell_type": "code",
   "execution_count": 15,
   "metadata": {},
   "outputs": [
    {
     "name": "stdout",
     "output_type": "stream",
     "text": [
      "Task 5f127f6f26831d0010e985e5 passed big box test \n",
      "Task 5f127f6c3a6b1000172320ad passed big box test \n",
      "Task 5f127f699740b80017f9b170 passed big box test \n",
      "Task 5f127f671ab28b001762c204 passed big box test \n",
      "Task 5f127f643a6b1000172320a5 passed big box test \n",
      "ERROR: Big box containing no information in 25e6e90c-7acb-4786-a0fb-ca7b10fc3687 tag of task 5f127f5f3a6b100017232099 \n",
      "Task 5f127f5ab1cb1300109e4ffc passed big box test \n",
      "Task 5f127f55fdc4150010e37244 passed big box test \n"
     ]
    }
   ],
   "source": [
    "response = requests.request(\"GET\", url+\"tasks?status=completed&project=\"+project_name, headers=headers)\n",
    "\n",
    "task_list_json = json.loads(response.text)\n",
    "\n",
    "# list of tasks\n",
    "tasks = task_list_json[\"docs\"] \n",
    "\n",
    "for i in tasks:\n",
    "    # print (json.dumps(i[\"task_id\"], indent=4))\n",
    "    response_task = requests.request(\"GET\", url+\"task/\"+i[\"task_id\"], headers=headers)\n",
    "    response_task_json = json.loads(response_task.text)\n",
    "    check_box_size(i)\n",
    "    # print (json.dumps(response_task_json, indent=4))"
   ]
  }
 ],
 "metadata": {
  "interpreter": {
   "hash": "aee8b7b246df8f9039afb4144a1f6fd8d2ca17a180786b69acc140d282b71a49"
  },
  "kernelspec": {
   "display_name": "Python 3.7.7 64-bit",
   "language": "python",
   "name": "python3"
  },
  "language_info": {
   "codemirror_mode": {
    "name": "ipython",
    "version": 3
   },
   "file_extension": ".py",
   "mimetype": "text/x-python",
   "name": "python",
   "nbconvert_exporter": "python",
   "pygments_lexer": "ipython3",
   "version": "3.7.7"
  },
  "orig_nbformat": 4
 },
 "nbformat": 4,
 "nbformat_minor": 2
}
