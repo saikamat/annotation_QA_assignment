{
 "cells": [
  {
   "cell_type": "code",
   "execution_count": 1,
   "metadata": {},
   "outputs": [],
   "source": [
    "import requests\n",
    "import scaleapi\n",
    "import json\n",
    "from os import environ\n"
   ]
  },
  {
   "cell_type": "markdown",
   "metadata": {},
   "source": [
    "Retrieving Project"
   ]
  },
  {
   "cell_type": "code",
   "execution_count": null,
   "metadata": {},
   "outputs": [],
   "source": [
    "import requests\n",
    "\n",
    "url = \"https://api.scale.com/v1/projects/Traffic Sign Detection\"\n",
    "\n",
    "headers = {\n",
    "    \"Accept\": \"application/json\",\n",
    "    \"Authorization\": \"Basic \"+environ.get('Bearer')\n",
    "}\n",
    "\n",
    "response = requests.request(\"GET\", url, headers=headers)\n",
    "pretty_json = json.loads(response.text)\n",
    "print (json.dumps(pretty_json, indent=4))\n"
   ]
  },
  {
   "cell_type": "markdown",
   "metadata": {},
   "source": [
    "Retrieving Tasks"
   ]
  },
  {
   "cell_type": "code",
   "execution_count": null,
   "metadata": {},
   "outputs": [],
   "source": [
    "import requests\n",
    "\n",
    "task_retrieve_url = \"https://api.scale.com/v1/tasks?status=completed&project=Traffic Sign Detection&limit=100\"\n",
    "task_detail_url = \"https://api.scale.com/v1/task/\"\n",
    "accepted_annotation_label = [\"traffic_control_sign\",\n",
    "                                \"construction_sign\",\n",
    "                                \"information_sign\",\n",
    "                                \"policy_sign\",\n",
    "                                \"non_visible_face\"\n",
    "                            ]\n",
    "\n",
    "\n",
    "headers = {\n",
    "    \"Accept\": \"application/json\",\n",
    "    \"Authorization\": \"Basic \"+environ.get('Bearer')\n",
    "}\n",
    "\n",
    "response = requests.request(\"GET\", task_retrieve_url, headers=headers)\n",
    "\n",
    "pretty_response = json.loads(response.text)\n",
    "\n",
    "# list of tasks\n",
    "tasks = pretty_response[\"docs\"] \n",
    "\n",
    "for i in tasks:\n",
    "    print (json.dumps(i[\"task_id\"], indent=4))\n",
    "    response_task = requests.request(\"GET\", task_detail_url+i[\"task_id\"], headers=headers)\n",
    "\n",
    "    pretty_response_task = json.loads(response_task.text)\n",
    "\n",
    "    print (json.dumps(pretty_response_task, indent=4))\n",
    "\n",
    "    # responses = pretty_response_task[\"response\"][\"annotations\"]\n",
    "    \n",
    "# \n",
    "\n",
    "\n",
    "# print (json.dumps(pretty_json[\"docs\"][7][\"task_id\"], indent=4))"
   ]
  }
 ],
 "metadata": {
  "interpreter": {
   "hash": "aee8b7b246df8f9039afb4144a1f6fd8d2ca17a180786b69acc140d282b71a49"
  },
  "kernelspec": {
   "display_name": "Python 3.7.7 64-bit",
   "language": "python",
   "name": "python3"
  },
  "language_info": {
   "codemirror_mode": {
    "name": "ipython",
    "version": 3
   },
   "file_extension": ".py",
   "mimetype": "text/x-python",
   "name": "python",
   "nbconvert_exporter": "python",
   "pygments_lexer": "ipython3",
   "version": "3.7.7"
  },
  "orig_nbformat": 4
 },
 "nbformat": 4,
 "nbformat_minor": 2
}
